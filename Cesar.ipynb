{
 "cells": [
  {
   "cell_type": "markdown",
   "metadata": {},
   "source": [
    "<h1>Caesar cipher</h1>\n",
    "<h2> Encrypt </h2>\n",
    "<h4>\n",
    "<p>The first part of this will consist on getting a string with one character and switch places of it characters (i.e a->b b->c ...)\n",
    "I will start creating a function that codes the message</p></h4>"
   ]
  },
  {
   "cell_type": "code",
   "execution_count": 121,
   "metadata": {},
   "outputs": [],
   "source": [
    "\n",
    "\n",
    "alfabeto=\"abcdefghijklmnopqrstuvwxyz,.;\"\n",
    "def caesar(alfabeto,string,k):\n",
    "    b=\"\"\n",
    "    longitud=len(alfabeto)\n",
    "    for i in string:\n",
    "        t=alfabeto.find(i)\n",
    "        r=(t + k) % longitud\n",
    "        b=b+ alfabeto[r]\n",
    "    return b"
   ]
  },
  {
   "cell_type": "markdown",
   "metadata": {},
   "source": [
    "<h4><p> Now there is a simple test just to check if it works </p></h4>"
   ]
  },
  {
   "cell_type": "code",
   "execution_count": 123,
   "metadata": {
    "scrolled": true
   },
   "outputs": [
    {
     "data": {
      "text/plain": [
       "'khoor'"
      ]
     },
     "execution_count": 123,
     "metadata": {},
     "output_type": "execute_result"
    }
   ],
   "source": [
    "caesar(alfabeto,\"hello\",3)"
   ]
  },
  {
   "cell_type": "markdown",
   "metadata": {},
   "source": [
    "<h2> Decrypt </h2>\n",
    "\n",
    "<h4><p> The decryption of this will be by brute force </p><h4>"
   ]
  },
  {
   "cell_type": "code",
   "execution_count": 124,
   "metadata": {},
   "outputs": [],
   "source": [
    "#Descrypt\n",
    "def solve_caesar(alfabeto,string):\n",
    "    print\n",
    "    for i in range(len(alfabeto)):\n",
    "        print(\"key = \"+ str(i)+\"  \"+\"solution = \"+(caesar(alfabeto,string,i)))"
   ]
  },
  {
   "cell_type": "markdown",
   "metadata": {},
   "source": [
    "<h4><p> Now there is a simple test just to check if it works </p></h4>"
   ]
  },
  {
   "cell_type": "code",
   "execution_count": 125,
   "metadata": {},
   "outputs": [
    {
     "name": "stdout",
     "output_type": "stream",
     "text": [
      "key = 0  solution = khoor\n",
      "key = 1  solution = lipps\n",
      "key = 2  solution = mjqqt\n",
      "key = 3  solution = nkrru\n",
      "key = 4  solution = olssv\n",
      "key = 5  solution = pmttw\n",
      "key = 6  solution = qnuux\n",
      "key = 7  solution = rovvy\n",
      "key = 8  solution = spwwz\n",
      "key = 9  solution = tqxx,\n",
      "key = 10  solution = uryy.\n",
      "key = 11  solution = vszz;\n",
      "key = 12  solution = wt,,a\n",
      "key = 13  solution = xu..b\n",
      "key = 14  solution = yv;;c\n",
      "key = 15  solution = zwaad\n",
      "key = 16  solution = ,xbbe\n",
      "key = 17  solution = .yccf\n",
      "key = 18  solution = ;zddg\n",
      "key = 19  solution = a,eeh\n",
      "key = 20  solution = b.ffi\n",
      "key = 21  solution = c;ggj\n",
      "key = 22  solution = dahhk\n",
      "key = 23  solution = ebiil\n",
      "key = 24  solution = fcjjm\n",
      "key = 25  solution = gdkkn\n",
      "key = 26  solution = hello\n",
      "key = 27  solution = ifmmp\n",
      "key = 28  solution = jgnnq\n"
     ]
    }
   ],
   "source": [
    "solve_caesar(alfabeto,\"khoor\")"
   ]
  },
  {
   "cell_type": "markdown",
   "metadata": {},
   "source": [
    "<h2> Write an interactive program </h2>\n",
    "<h1 style=\"color:Tomato;\">hay que terminarlo. Por ahora no te deja repetir una elección mala.</h1>"
   ]
  },
  {
   "cell_type": "code",
   "execution_count": 129,
   "metadata": {},
   "outputs": [],
   "source": [
    "def iter_caesar():\n",
    "    print(\"this program is not complete so if some step is wrong you have to finish and then try again.\")\n",
    "    prompt=\"\"\n",
    "    num=0\n",
    "    num2=0\n",
    "    num3=0\n",
    "    num4=0\n",
    "    while num!=1 and num!=2:\n",
    "        print(\"to cypher press 1\")\n",
    "        print(\"to decypher press 2\")\n",
    "        try:\n",
    "            num=int(input(prompt))\n",
    "            break\n",
    "        except ValueError:\n",
    "            pass\n",
    "    if num==1:\n",
    "        while True:\n",
    "            print(\"write the alphabet with .,; and space if necesary\")\n",
    "            while True:\n",
    "                try:\n",
    "                    alf=str(input(prompt))\n",
    "                    break\n",
    "                except ValueError:\n",
    "                    pass\n",
    "            print(\"your alphabet is:\")\n",
    "            print(alf)\n",
    "            print(\"Are you sure that this is the alfabet?\")\n",
    "            print(\"Write a number if so and something else if it is wrong or if it contains repetitions\")\n",
    "            try:\n",
    "                num2=int(input(prompt))\n",
    "                break\n",
    "            except ValueError:\n",
    "                pass\n",
    "        while True:\n",
    "            print(\"write the key \")\n",
    "            while True:\n",
    "                try:\n",
    "                    key=int(input(prompt))\n",
    "                    break\n",
    "                except ValueError:\n",
    "                    pass          \n",
    "            print(\"the key is:\")\n",
    "            print(str(key))\n",
    "            print(\"Are you sure that this is the key?\")\n",
    "            print(\"Write a number if so and something else if it is wrong or if it contains repetitions\")\n",
    "            try:\n",
    "                num3=int(input(prompt))\n",
    "                break\n",
    "            except ValueError:\n",
    "                pass\n",
    "        while True:\n",
    "            print(\"write the message \")\n",
    "            while True:\n",
    "                try:\n",
    "                    mes=str(input(prompt))\n",
    "                    break\n",
    "                except ValueError:\n",
    "                    pass\n",
    "            print(\"the message is:\")\n",
    "            print(str(mes))\n",
    "            print(\"Are you sure that this is the message?\")\n",
    "            print(\"Write a number if so and something else if it is wrong or if it contains repetitions\")\n",
    "            try:\n",
    "                num4=int(input(prompt))\n",
    "                break\n",
    "            except ValueError:\n",
    "                pass\n",
    "        print(\"solving: \")\n",
    "        print(caesar(alf,mes,key))\n",
    "    if num==2:\n",
    "        while True:\n",
    "            print(\"write the alphabet with .,; and space if necesary\")\n",
    "            while True:\n",
    "                try:\n",
    "                    alf=str(input(prompt))\n",
    "                    break\n",
    "                except ValueError:\n",
    "                    pass\n",
    "            print(\"your alphabet is:\")\n",
    "            print(alf)\n",
    "            print(\"Are you sure that this is the alfabet?\")\n",
    "            print(\"Write a number if so and something else if it is wrong or if it contains repetitions\")\n",
    "            try:\n",
    "                num2=int(input(prompt))\n",
    "                break\n",
    "            except ValueError:\n",
    "                pass\n",
    "        while True:\n",
    "            print(\"write the message \")\n",
    "            while True:\n",
    "                try:\n",
    "                    mes=str(input(prompt))\n",
    "                    break\n",
    "                except ValueError:\n",
    "                    pass\n",
    "            print(\"the message is:\")\n",
    "            print(str(mes))\n",
    "            print(\"Are you sure that this is the message?\")\n",
    "            print(\"Write a number if so and something else if it is wrong or if it contains repetitions\")\n",
    "            try:\n",
    "                num4=int(input(prompt))\n",
    "                break\n",
    "            except ValueError:\n",
    "                pass\n",
    "        solve_caesar(alf,mes)\n",
    "        \n",
    "        \n",
    "                "
   ]
  },
  {
   "cell_type": "code",
   "execution_count": 130,
   "metadata": {},
   "outputs": [
    {
     "name": "stdout",
     "output_type": "stream",
     "text": [
      "this program is not complete so if some step is wrong you have to finish and then try again.\n",
      "to cypher press 1\n",
      "to decypher press 2\n",
      "1\n",
      "write the alphabet with .,; and space if necesary\n",
      "helo\n",
      "your alphabet is:\n",
      "helo\n",
      "Are you sure that this is the alfabet?\n",
      "Write a number if so and something else if it is wrong or if it contains repetitions\n",
      "1\n",
      "write the key \n",
      "1\n",
      "the key is:\n",
      "1\n",
      "Are you sure that this is the key?\n",
      "Write a number if so and something else if it is wrong or if it contains repetitions\n",
      "1\n",
      "write the message \n",
      "hello\n",
      "the message is:\n",
      "hello\n",
      "Are you sure that this is the message?\n",
      "Write a number if so and something else if it is wrong or if it contains repetitions\n",
      "1\n",
      "solving: \n",
      "elooh\n"
     ]
    }
   ],
   "source": [
    "iter_caesar()"
   ]
  }
 ],
 "metadata": {
  "kernelspec": {
   "display_name": "Python 3",
   "language": "python",
   "name": "python3"
  },
  "language_info": {
   "codemirror_mode": {
    "name": "ipython",
    "version": 3
   },
   "file_extension": ".py",
   "mimetype": "text/x-python",
   "name": "python",
   "nbconvert_exporter": "python",
   "pygments_lexer": "ipython3",
   "version": "3.7.1"
  }
 },
 "nbformat": 4,
 "nbformat_minor": 2
}
